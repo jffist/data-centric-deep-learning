{
 "cells": [
  {
   "cell_type": "code",
   "execution_count": 1,
   "id": "2c5cf2f6-ae17-492c-851e-d91994894e89",
   "metadata": {},
   "outputs": [
    {
     "name": "stderr",
     "output_type": "stream",
     "text": [
      "/usr/local/lib/python3.8/site-packages/tqdm/auto.py:22: TqdmWarning: IProgress not found. Please update jupyter and ipywidgets. See https://ipywidgets.readthedocs.io/en/stable/user_install.html\n",
      "  from .autonotebook import tqdm as notebook_tqdm\n"
     ]
    }
   ],
   "source": [
    "import os\n",
    "import torch\n",
    "import pandas as pd\n",
    "import numpy as np\n",
    "from pathlib import Path"
   ]
  },
  {
   "cell_type": "code",
   "execution_count": 2,
   "id": "17e63c40-b740-47b6-9f1e-241b1ab8ea0e",
   "metadata": {},
   "outputs": [],
   "source": [
    "from torch.utils.data import Dataset, DataLoader\n",
    "from torchvision import transforms"
   ]
  },
  {
   "cell_type": "code",
   "execution_count": 3,
   "id": "35d84b04-c80d-4a5f-a464-27bef957125e",
   "metadata": {},
   "outputs": [],
   "source": [
    "from testing.system import MNISTDataModule, DigitClassifierSystem\n",
    "from testing.integration import MNISTIntegrationDataset"
   ]
  },
  {
   "cell_type": "markdown",
   "id": "ef131b42-f1ca-4718-ba59-f3e0563fc109",
   "metadata": {},
   "source": [
    "# Why\n",
    "The goal of the notebook was to understand errors of the model on the integration test and get experience with pytorch class system\n",
    "\n",
    "# What\n",
    "* Load data using MNISTDataModule\n",
    "* Make predictions using DigitClassifierSystem\n",
    "* Convert everything to the dataframe with predictions and probability per class"
   ]
  },
  {
   "cell_type": "code",
   "execution_count": 4,
   "id": "7b0eba45-76dd-4af4-b4c9-6686633cf1a6",
   "metadata": {},
   "outputs": [],
   "source": [
    "# set working dir to the testing project so we can use  relative paths for data loading\n",
    "root = \"/workspaces/data-centric-deep-learning/course/week2/testing_project/\"\n",
    "if os.getcwd() != \"root\":\n",
    "    os.chdir(root)"
   ]
  },
  {
   "cell_type": "markdown",
   "id": "8ee658d4-2b7b-47a6-b6e4-2bf3568983da",
   "metadata": {},
   "source": [
    "### Config"
   ]
  },
  {
   "cell_type": "code",
   "execution_count": 5,
   "id": "89556a8d-a7fa-4581-821d-2e87238b38b9",
   "metadata": {},
   "outputs": [],
   "source": [
    "checkpoint_path = \"./checkpoints/mlp.ckpt\"\n",
    "test_dir = Path(\"./images/integration\")\n",
    "test_dir_images = test_dir / \"digits-processed\""
   ]
  },
  {
   "cell_type": "markdown",
   "id": "528b175f-a02a-4b3a-abaa-6ed47b291b94",
   "metadata": {},
   "source": [
    "### Load system"
   ]
  },
  {
   "cell_type": "code",
   "execution_count": 6,
   "id": "4651ba43-bcb4-4b5e-baed-6fa5c6d822fb",
   "metadata": {},
   "outputs": [],
   "source": [
    "system = DigitClassifierSystem.load_from_checkpoint(checkpoint_path)"
   ]
  },
  {
   "cell_type": "markdown",
   "id": "6e6be057-687e-4ab3-a204-e42d4e6d9f65",
   "metadata": {},
   "source": [
    "### Load data for the integration test"
   ]
  },
  {
   "cell_type": "code",
   "execution_count": 7,
   "id": "c83ad221-f067-4b18-9aad-f285be92c2ed",
   "metadata": {},
   "outputs": [
    {
     "data": {
      "text/html": [
       "<div>\n",
       "<style scoped>\n",
       "    .dataframe tbody tr th:only-of-type {\n",
       "        vertical-align: middle;\n",
       "    }\n",
       "\n",
       "    .dataframe tbody tr th {\n",
       "        vertical-align: top;\n",
       "    }\n",
       "\n",
       "    .dataframe thead th {\n",
       "        text-align: right;\n",
       "    }\n",
       "</style>\n",
       "<table border=\"1\" class=\"dataframe\">\n",
       "  <thead>\n",
       "    <tr style=\"text-align: right;\">\n",
       "      <th></th>\n",
       "      <th>path</th>\n",
       "      <th>label</th>\n",
       "    </tr>\n",
       "  </thead>\n",
       "  <tbody>\n",
       "    <tr>\n",
       "      <th>0</th>\n",
       "      <td>ts_00.png</td>\n",
       "      <td>0</td>\n",
       "    </tr>\n",
       "    <tr>\n",
       "      <th>1</th>\n",
       "      <td>ts_01.png</td>\n",
       "      <td>1</td>\n",
       "    </tr>\n",
       "    <tr>\n",
       "      <th>2</th>\n",
       "      <td>ts_02.png</td>\n",
       "      <td>2</td>\n",
       "    </tr>\n",
       "    <tr>\n",
       "      <th>3</th>\n",
       "      <td>ts_03.png</td>\n",
       "      <td>3</td>\n",
       "    </tr>\n",
       "    <tr>\n",
       "      <th>4</th>\n",
       "      <td>ts_04.png</td>\n",
       "      <td>4</td>\n",
       "    </tr>\n",
       "    <tr>\n",
       "      <th>5</th>\n",
       "      <td>ts_05.png</td>\n",
       "      <td>5</td>\n",
       "    </tr>\n",
       "    <tr>\n",
       "      <th>6</th>\n",
       "      <td>ts_06.png</td>\n",
       "      <td>6</td>\n",
       "    </tr>\n",
       "    <tr>\n",
       "      <th>7</th>\n",
       "      <td>ts_07.png</td>\n",
       "      <td>7</td>\n",
       "    </tr>\n",
       "    <tr>\n",
       "      <th>8</th>\n",
       "      <td>ts_08.png</td>\n",
       "      <td>8</td>\n",
       "    </tr>\n",
       "    <tr>\n",
       "      <th>9</th>\n",
       "      <td>ts_09.png</td>\n",
       "      <td>9</td>\n",
       "    </tr>\n",
       "  </tbody>\n",
       "</table>\n",
       "</div>"
      ],
      "text/plain": [
       "        path  label\n",
       "0  ts_00.png      0\n",
       "1  ts_01.png      1\n",
       "2  ts_02.png      2\n",
       "3  ts_03.png      3\n",
       "4  ts_04.png      4\n",
       "5  ts_05.png      5\n",
       "6  ts_06.png      6\n",
       "7  ts_07.png      7\n",
       "8  ts_08.png      8\n",
       "9  ts_09.png      9"
      ]
     },
     "execution_count": 7,
     "metadata": {},
     "output_type": "execute_result"
    }
   ],
   "source": [
    "labels_df = pd.read_csv(test_dir / \"labels.csv\")\n",
    "labels_df"
   ]
  },
  {
   "cell_type": "code",
   "execution_count": 8,
   "id": "017afde9-bf46-48b7-a7e7-c177ec4a1f09",
   "metadata": {},
   "outputs": [],
   "source": [
    "image_paths = [test_dir_images/name for name in labels_df.path]\n",
    "\n",
    "missing_files = [f for f in image_paths if not f.exists()]\n",
    "assert not missing_files"
   ]
  },
  {
   "cell_type": "code",
   "execution_count": 9,
   "id": "496f4f71-61bb-4f9f-a0a7-f2556d79510e",
   "metadata": {},
   "outputs": [
    {
     "data": {
      "text/plain": [
       "[PosixPath('images/integration/digits-processed/ts_00.png'),\n",
       " PosixPath('images/integration/digits-processed/ts_01.png'),\n",
       " PosixPath('images/integration/digits-processed/ts_02.png'),\n",
       " PosixPath('images/integration/digits-processed/ts_03.png'),\n",
       " PosixPath('images/integration/digits-processed/ts_04.png'),\n",
       " PosixPath('images/integration/digits-processed/ts_05.png'),\n",
       " PosixPath('images/integration/digits-processed/ts_06.png'),\n",
       " PosixPath('images/integration/digits-processed/ts_07.png'),\n",
       " PosixPath('images/integration/digits-processed/ts_08.png'),\n",
       " PosixPath('images/integration/digits-processed/ts_09.png')]"
      ]
     },
     "execution_count": 9,
     "metadata": {},
     "output_type": "execute_result"
    }
   ],
   "source": [
    "image_paths"
   ]
  },
  {
   "cell_type": "code",
   "execution_count": 10,
   "id": "cf670029-f8cc-49ab-ab7a-0cdfcdbc9b25",
   "metadata": {},
   "outputs": [
    {
     "data": {
      "text/plain": [
       "array([0, 1, 2, 3, 4, 5, 6, 7, 8, 9])"
      ]
     },
     "execution_count": 10,
     "metadata": {},
     "output_type": "execute_result"
    }
   ],
   "source": [
    "labels = labels_df.label.values\n",
    "labels"
   ]
  },
  {
   "cell_type": "code",
   "execution_count": 11,
   "id": "fb9f6b6b-0b2e-4cdf-9d43-dd45c34f0b72",
   "metadata": {},
   "outputs": [],
   "source": [
    "# configure pytorch classes for working with data (Dataset -> DataLoader)\n",
    "dataset = MNISTIntegrationDataset(image_paths, labels, transform = transforms.ToTensor())\n",
    "loader = DataLoader(dataset, batch_size=5)"
   ]
  },
  {
   "cell_type": "markdown",
   "id": "9af2c3af-e897-4c59-ae20-4389915cf282",
   "metadata": {},
   "source": [
    "### Iterate over batches and save all outputs"
   ]
  },
  {
   "cell_type": "code",
   "execution_count": 12,
   "id": "8a02181c-fda1-40df-9b68-c4ff0403dd15",
   "metadata": {},
   "outputs": [],
   "source": [
    "all_probs = []\n",
    "all_preds = []\n",
    "\n",
    "for batch in loader:\n",
    "    X, y = batch\n",
    "    with torch.no_grad():\n",
    "        batch_logits = system.predict_step(X)\n",
    "        batch_preds = torch.argmax(batch_logits, dim=1)\n",
    "        # why don't we do this in the forward step?\n",
    "        batch_probs = torch.softmax(batch_logits, -1)\n",
    "    all_probs.append(batch_probs.numpy())\n",
    "    all_preds.append(batch_preds.numpy())\n",
    "\n",
    "all_probs = np.concatenate(all_probs, axis=0)\n",
    "all_preds = np.concatenate(all_preds, axis=0)"
   ]
  },
  {
   "cell_type": "code",
   "execution_count": 13,
   "id": "8964e149-2e76-46a7-93c2-1fe4b65be102",
   "metadata": {},
   "outputs": [
    {
     "data": {
      "text/plain": [
       "array([0, 7, 2, 5, 4, 5, 5, 2, 8, 3])"
      ]
     },
     "execution_count": 13,
     "metadata": {},
     "output_type": "execute_result"
    }
   ],
   "source": [
    "all_preds"
   ]
  },
  {
   "cell_type": "code",
   "execution_count": 14,
   "id": "3909efdf-add2-4916-9b3f-84a3f345282d",
   "metadata": {},
   "outputs": [],
   "source": [
    "diagnostic_df = labels_df.copy()\n",
    "diagnostic_df['predicted'] = all_preds\n",
    "diagnostic_df = pd.concat([diagnostic_df, pd.DataFrame(all_probs).add_prefix(\"prob_\").round(3)], axis=1)\n",
    "diagnostic_df['is_correct'] = diagnostic_df['label'] == diagnostic_df['predicted']"
   ]
  },
  {
   "cell_type": "code",
   "execution_count": 15,
   "id": "c450ef1e-0e2e-479d-8139-a9f54e77fe4d",
   "metadata": {},
   "outputs": [
    {
     "data": {
      "text/html": [
       "<div>\n",
       "<style scoped>\n",
       "    .dataframe tbody tr th:only-of-type {\n",
       "        vertical-align: middle;\n",
       "    }\n",
       "\n",
       "    .dataframe tbody tr th {\n",
       "        vertical-align: top;\n",
       "    }\n",
       "\n",
       "    .dataframe thead th {\n",
       "        text-align: right;\n",
       "    }\n",
       "</style>\n",
       "<table border=\"1\" class=\"dataframe\">\n",
       "  <thead>\n",
       "    <tr style=\"text-align: right;\">\n",
       "      <th></th>\n",
       "      <th>path</th>\n",
       "      <th>label</th>\n",
       "      <th>predicted</th>\n",
       "      <th>prob_0</th>\n",
       "      <th>prob_1</th>\n",
       "      <th>prob_2</th>\n",
       "      <th>prob_3</th>\n",
       "      <th>prob_4</th>\n",
       "      <th>prob_5</th>\n",
       "      <th>prob_6</th>\n",
       "      <th>prob_7</th>\n",
       "      <th>prob_8</th>\n",
       "      <th>prob_9</th>\n",
       "      <th>is_correct</th>\n",
       "    </tr>\n",
       "  </thead>\n",
       "  <tbody>\n",
       "    <tr>\n",
       "      <th>0</th>\n",
       "      <td>ts_00.png</td>\n",
       "      <td>0</td>\n",
       "      <td>0</td>\n",
       "      <td>0.997</td>\n",
       "      <td>0.000</td>\n",
       "      <td>0.000</td>\n",
       "      <td>0.000</td>\n",
       "      <td>0.000</td>\n",
       "      <td>0.002</td>\n",
       "      <td>0.000</td>\n",
       "      <td>0.000</td>\n",
       "      <td>0.001</td>\n",
       "      <td>0.000</td>\n",
       "      <td>True</td>\n",
       "    </tr>\n",
       "    <tr>\n",
       "      <th>1</th>\n",
       "      <td>ts_01.png</td>\n",
       "      <td>1</td>\n",
       "      <td>7</td>\n",
       "      <td>0.000</td>\n",
       "      <td>0.018</td>\n",
       "      <td>0.000</td>\n",
       "      <td>0.099</td>\n",
       "      <td>0.322</td>\n",
       "      <td>0.022</td>\n",
       "      <td>0.000</td>\n",
       "      <td>0.495</td>\n",
       "      <td>0.012</td>\n",
       "      <td>0.031</td>\n",
       "      <td>False</td>\n",
       "    </tr>\n",
       "    <tr>\n",
       "      <th>2</th>\n",
       "      <td>ts_02.png</td>\n",
       "      <td>2</td>\n",
       "      <td>2</td>\n",
       "      <td>0.009</td>\n",
       "      <td>0.012</td>\n",
       "      <td>0.939</td>\n",
       "      <td>0.039</td>\n",
       "      <td>0.000</td>\n",
       "      <td>0.001</td>\n",
       "      <td>0.000</td>\n",
       "      <td>0.000</td>\n",
       "      <td>0.000</td>\n",
       "      <td>0.000</td>\n",
       "      <td>True</td>\n",
       "    </tr>\n",
       "    <tr>\n",
       "      <th>3</th>\n",
       "      <td>ts_03.png</td>\n",
       "      <td>3</td>\n",
       "      <td>5</td>\n",
       "      <td>0.000</td>\n",
       "      <td>0.000</td>\n",
       "      <td>0.000</td>\n",
       "      <td>0.338</td>\n",
       "      <td>0.000</td>\n",
       "      <td>0.661</td>\n",
       "      <td>0.000</td>\n",
       "      <td>0.000</td>\n",
       "      <td>0.001</td>\n",
       "      <td>0.000</td>\n",
       "      <td>False</td>\n",
       "    </tr>\n",
       "    <tr>\n",
       "      <th>4</th>\n",
       "      <td>ts_04.png</td>\n",
       "      <td>4</td>\n",
       "      <td>4</td>\n",
       "      <td>0.000</td>\n",
       "      <td>0.000</td>\n",
       "      <td>0.000</td>\n",
       "      <td>0.000</td>\n",
       "      <td>1.000</td>\n",
       "      <td>0.000</td>\n",
       "      <td>0.000</td>\n",
       "      <td>0.000</td>\n",
       "      <td>0.000</td>\n",
       "      <td>0.000</td>\n",
       "      <td>True</td>\n",
       "    </tr>\n",
       "    <tr>\n",
       "      <th>5</th>\n",
       "      <td>ts_05.png</td>\n",
       "      <td>5</td>\n",
       "      <td>5</td>\n",
       "      <td>0.000</td>\n",
       "      <td>0.000</td>\n",
       "      <td>0.000</td>\n",
       "      <td>0.000</td>\n",
       "      <td>0.000</td>\n",
       "      <td>1.000</td>\n",
       "      <td>0.000</td>\n",
       "      <td>0.000</td>\n",
       "      <td>0.000</td>\n",
       "      <td>0.000</td>\n",
       "      <td>True</td>\n",
       "    </tr>\n",
       "    <tr>\n",
       "      <th>6</th>\n",
       "      <td>ts_06.png</td>\n",
       "      <td>6</td>\n",
       "      <td>5</td>\n",
       "      <td>0.000</td>\n",
       "      <td>0.000</td>\n",
       "      <td>0.000</td>\n",
       "      <td>0.000</td>\n",
       "      <td>0.000</td>\n",
       "      <td>0.633</td>\n",
       "      <td>0.353</td>\n",
       "      <td>0.000</td>\n",
       "      <td>0.014</td>\n",
       "      <td>0.000</td>\n",
       "      <td>False</td>\n",
       "    </tr>\n",
       "    <tr>\n",
       "      <th>7</th>\n",
       "      <td>ts_07.png</td>\n",
       "      <td>7</td>\n",
       "      <td>2</td>\n",
       "      <td>0.000</td>\n",
       "      <td>0.000</td>\n",
       "      <td>0.732</td>\n",
       "      <td>0.004</td>\n",
       "      <td>0.257</td>\n",
       "      <td>0.000</td>\n",
       "      <td>0.000</td>\n",
       "      <td>0.007</td>\n",
       "      <td>0.000</td>\n",
       "      <td>0.000</td>\n",
       "      <td>False</td>\n",
       "    </tr>\n",
       "    <tr>\n",
       "      <th>8</th>\n",
       "      <td>ts_08.png</td>\n",
       "      <td>8</td>\n",
       "      <td>8</td>\n",
       "      <td>0.001</td>\n",
       "      <td>0.000</td>\n",
       "      <td>0.002</td>\n",
       "      <td>0.047</td>\n",
       "      <td>0.000</td>\n",
       "      <td>0.002</td>\n",
       "      <td>0.000</td>\n",
       "      <td>0.000</td>\n",
       "      <td>0.949</td>\n",
       "      <td>0.000</td>\n",
       "      <td>True</td>\n",
       "    </tr>\n",
       "    <tr>\n",
       "      <th>9</th>\n",
       "      <td>ts_09.png</td>\n",
       "      <td>9</td>\n",
       "      <td>3</td>\n",
       "      <td>0.000</td>\n",
       "      <td>0.000</td>\n",
       "      <td>0.000</td>\n",
       "      <td>0.588</td>\n",
       "      <td>0.000</td>\n",
       "      <td>0.408</td>\n",
       "      <td>0.000</td>\n",
       "      <td>0.000</td>\n",
       "      <td>0.004</td>\n",
       "      <td>0.000</td>\n",
       "      <td>False</td>\n",
       "    </tr>\n",
       "  </tbody>\n",
       "</table>\n",
       "</div>"
      ],
      "text/plain": [
       "        path  label  predicted  prob_0  prob_1  prob_2  prob_3  prob_4  \\\n",
       "0  ts_00.png      0          0   0.997   0.000   0.000   0.000   0.000   \n",
       "1  ts_01.png      1          7   0.000   0.018   0.000   0.099   0.322   \n",
       "2  ts_02.png      2          2   0.009   0.012   0.939   0.039   0.000   \n",
       "3  ts_03.png      3          5   0.000   0.000   0.000   0.338   0.000   \n",
       "4  ts_04.png      4          4   0.000   0.000   0.000   0.000   1.000   \n",
       "5  ts_05.png      5          5   0.000   0.000   0.000   0.000   0.000   \n",
       "6  ts_06.png      6          5   0.000   0.000   0.000   0.000   0.000   \n",
       "7  ts_07.png      7          2   0.000   0.000   0.732   0.004   0.257   \n",
       "8  ts_08.png      8          8   0.001   0.000   0.002   0.047   0.000   \n",
       "9  ts_09.png      9          3   0.000   0.000   0.000   0.588   0.000   \n",
       "\n",
       "   prob_5  prob_6  prob_7  prob_8  prob_9  is_correct  \n",
       "0   0.002   0.000   0.000   0.001   0.000        True  \n",
       "1   0.022   0.000   0.495   0.012   0.031       False  \n",
       "2   0.001   0.000   0.000   0.000   0.000        True  \n",
       "3   0.661   0.000   0.000   0.001   0.000       False  \n",
       "4   0.000   0.000   0.000   0.000   0.000        True  \n",
       "5   1.000   0.000   0.000   0.000   0.000        True  \n",
       "6   0.633   0.353   0.000   0.014   0.000       False  \n",
       "7   0.000   0.000   0.007   0.000   0.000       False  \n",
       "8   0.002   0.000   0.000   0.949   0.000        True  \n",
       "9   0.408   0.000   0.000   0.004   0.000       False  "
      ]
     },
     "execution_count": 15,
     "metadata": {},
     "output_type": "execute_result"
    }
   ],
   "source": [
    "diagnostic_df"
   ]
  },
  {
   "cell_type": "code",
   "execution_count": 16,
   "id": "c5746109-e460-4da0-a383-5b0326954c00",
   "metadata": {},
   "outputs": [],
   "source": [
    "diagnostic_df.to_csv(\"logs/integration_results.csv\", index=False)"
   ]
  },
  {
   "cell_type": "code",
   "execution_count": null,
   "id": "437df929-938c-4318-a717-c9f394f3e4d0",
   "metadata": {},
   "outputs": [],
   "source": []
  }
 ],
 "metadata": {
  "kernelspec": {
   "display_name": "Python 3 (ipykernel)",
   "language": "python",
   "name": "python3"
  },
  "language_info": {
   "codemirror_mode": {
    "name": "ipython",
    "version": 3
   },
   "file_extension": ".py",
   "mimetype": "text/x-python",
   "name": "python",
   "nbconvert_exporter": "python",
   "pygments_lexer": "ipython3",
   "version": "3.8.19"
  }
 },
 "nbformat": 4,
 "nbformat_minor": 5
}
